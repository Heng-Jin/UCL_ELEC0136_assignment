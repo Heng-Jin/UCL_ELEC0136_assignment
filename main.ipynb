{
 "cells": [
  {
   "cell_type": "code",
   "execution_count": 25,
   "id": "393eacf9",
   "metadata": {},
   "outputs": [],
   "source": [
    "import pandas as pd\n",
    "import numpy as np\n",
    "import requests\n",
    "import os\n",
    "import datetime as dt\n",
    "from datetime import datetime\n",
    "import time\n"
   ]
  },
  {
   "cell_type": "code",
   "execution_count": 26,
   "id": "345ac950",
   "metadata": {},
   "outputs": [
    {
     "name": "stdout",
     "output_type": "stream",
     "text": [
      "2017-04-01\n"
     ]
    }
   ],
   "source": [
    "start_date = datetime(2017,4,1).date()\n",
    "end_date = datetime(2022,4,30).date()\n",
    "start_date_test = datetime(2022,5,1).date()\n",
    "end_date_test = datetime(2022,5,30).date()\n",
    "print(start_date)"
   ]
  },
  {
   "cell_type": "code",
   "execution_count": 30,
   "id": "6cabb0b2",
   "metadata": {},
   "outputs": [
    {
     "data": {
      "text/html": [
       "<div>\n",
       "<style scoped>\n",
       "    .dataframe tbody tr th:only-of-type {\n",
       "        vertical-align: middle;\n",
       "    }\n",
       "\n",
       "    .dataframe tbody tr th {\n",
       "        vertical-align: top;\n",
       "    }\n",
       "\n",
       "    .dataframe thead th {\n",
       "        text-align: right;\n",
       "    }\n",
       "</style>\n",
       "<table border=\"1\" class=\"dataframe\">\n",
       "  <thead>\n",
       "    <tr style=\"text-align: right;\">\n",
       "      <th></th>\n",
       "      <th>stock</th>\n",
       "    </tr>\n",
       "    <tr>\n",
       "      <th>datetime</th>\n",
       "      <th></th>\n",
       "    </tr>\n",
       "  </thead>\n",
       "  <tbody>\n",
       "    <tr>\n",
       "      <th>2017-03-27</th>\n",
       "      <td>41.74</td>\n",
       "    </tr>\n",
       "    <tr>\n",
       "      <th>2017-03-28</th>\n",
       "      <td>42.60</td>\n",
       "    </tr>\n",
       "    <tr>\n",
       "      <th>2017-03-29</th>\n",
       "      <td>41.96</td>\n",
       "    </tr>\n",
       "    <tr>\n",
       "      <th>2017-03-30</th>\n",
       "      <td>42.54</td>\n",
       "    </tr>\n",
       "    <tr>\n",
       "      <th>2017-03-31</th>\n",
       "      <td>42.30</td>\n",
       "    </tr>\n",
       "    <tr>\n",
       "      <th>...</th>\n",
       "      <td>...</td>\n",
       "    </tr>\n",
       "    <tr>\n",
       "      <th>2022-05-21</th>\n",
       "      <td>NaN</td>\n",
       "    </tr>\n",
       "    <tr>\n",
       "      <th>2022-05-22</th>\n",
       "      <td>NaN</td>\n",
       "    </tr>\n",
       "    <tr>\n",
       "      <th>2022-05-23</th>\n",
       "      <td>16.75</td>\n",
       "    </tr>\n",
       "    <tr>\n",
       "      <th>2022-05-24</th>\n",
       "      <td>15.50</td>\n",
       "    </tr>\n",
       "    <tr>\n",
       "      <th>2022-05-25</th>\n",
       "      <td>16.13</td>\n",
       "    </tr>\n",
       "  </tbody>\n",
       "</table>\n",
       "<p>1886 rows × 1 columns</p>\n",
       "</div>"
      ],
      "text/plain": [
       "            stock\n",
       "datetime         \n",
       "2017-03-27  41.74\n",
       "2017-03-28  42.60\n",
       "2017-03-29  41.96\n",
       "2017-03-30  42.54\n",
       "2017-03-31  42.30\n",
       "...           ...\n",
       "2022-05-21    NaN\n",
       "2022-05-22    NaN\n",
       "2022-05-23  16.75\n",
       "2022-05-24  15.50\n",
       "2022-05-25  16.13\n",
       "\n",
       "[1886 rows x 1 columns]"
      ]
     },
     "execution_count": 30,
     "metadata": {},
     "output_type": "execute_result"
    }
   ],
   "source": [
    "# fetch stock data\n",
    "# url = \"https://www.alphavantage.co/query?function=TIME_SERIES_DAILY&symbol=AAL&outputsize=full&datatype=json&apikey=I0D6SD0JRFHWY0JN\"\n",
    "# api_response = requests.get(url)\n",
    "\n",
    "# js=api_response.json()\n",
    "# js_info, header = api_response.json()\n",
    "# #Convert to pandas dataframe\n",
    "# print(type(js[header]))\n",
    "# df = pd.DataFrame.from_dict(js[header], orient='index', dtype=np.float)\n",
    "\n",
    "# df.index = df.index.map(lambda x: datetime.strptime(x, \"%Y-%m-%d\"))\n",
    "\n",
    "# # 生成完整的日期序列\n",
    "# pdates = pd.date_range(start=start_date-dt.timedelta(days = 5), end=end_date_test+-dt.timedelta(days = 5))\n",
    "# pdates\n",
    "# df = df.reindex(pdates, fill_value=np.nan)\n",
    "\n",
    "\n",
    "# df.to_csv('stock_dataset.csv', index=True, header=True, index_label='datetime')\n",
    "\n",
    "df = pd.read_csv('stock_dataset.csv')\n",
    "df\n",
    "df = df.drop(columns=['1. open','2. high','3. low', '5. volume'])\n",
    "df\n",
    "df.columns=['datetime','stock']\n",
    "df = df.set_index('datetime')\n",
    "df.index = df.index.map(lambda x: datetime.strptime(x, \"%Y-%m-%d\"))\n",
    "df"
   ]
  },
  {
   "cell_type": "code",
   "execution_count": 24,
   "id": "1fbab9ab",
   "metadata": {},
   "outputs": [],
   "source": [
    "# interpolation\n",
    "# df_ = df.interpolate(method='linear',limit_direction='both',axis=0)\n",
    "# df_.tail(20)"
   ]
  },
  {
   "cell_type": "code",
   "execution_count": 31,
   "id": "dce45899",
   "metadata": {},
   "outputs": [],
   "source": [
    "\n",
    "df.columns\n",
    "df = df.loc[start_date:end_date,:]\n",
    "\n"
   ]
  },
  {
   "cell_type": "code",
   "execution_count": 37,
   "id": "01af7c88",
   "metadata": {},
   "outputs": [
    {
     "data": {
      "image/png": "[encoded data removed]",
      "text/plain": [
       "<Figure size 640x480 with 1 Axes>"
      ]
     },
     "metadata": {},
     "output_type": "display_data"
    }
   ],
   "source": [
    "import matplotlib.pyplot as plt\n",
    "#线性插值让图变连续\n",
    "df_ = df.interpolate(method='linear',limit_direction='both',axis=0)\n",
    "plt.plot(df_, linestyle='-', marker='',  c='b')\n",
    "\n",
    "plt.xlabel('DateTime')\n",
    "plt.ylabel('Stock Price')\n",
    "\n",
    "plt.show()"
   ]
  },
  {
   "cell_type": "code",
   "execution_count": 35,
   "id": "93a0fbb6",
   "metadata": {},
   "outputs": [],
   "source": [
    "coordinates = {'ATL':[33.63, -84.42], 'DFW':[32.89, -97.04], 'DEN':[39.85, -104.67], 'ORD':[41.97, -87.90], 'LAX':[33.94, -118.42]}"
   ]
  },
  {
   "cell_type": "code",
   "execution_count": 45,
   "id": "729d6cd9",
   "metadata": {},
   "outputs": [
    {
     "ename": "TypeError",
     "evalue": "an integer is required (got type datetime.date)",
     "output_type": "error",
     "traceback": [
      "\u001b[1;31m---------------------------------------------------------------------------\u001b[0m",
      "\u001b[1;31mTypeError\u001b[0m                                 Traceback (most recent call last)",
      "\u001b[1;32m~\\AppData\\Local\\Temp\\ipykernel_33636\\538870848.py\u001b[0m in \u001b[0;36m<module>\u001b[1;34m\u001b[0m\n\u001b[0;32m      6\u001b[0m \u001b[1;31m# start = datetime.fromtimestamp(start_date)\u001b[0m\u001b[1;33m\u001b[0m\u001b[1;33m\u001b[0m\u001b[1;33m\u001b[0m\u001b[0m\n\u001b[0;32m      7\u001b[0m \u001b[1;31m# end = datetime.fromtimestamp(end_date)\u001b[0m\u001b[1;33m\u001b[0m\u001b[1;33m\u001b[0m\u001b[1;33m\u001b[0m\u001b[0m\n\u001b[1;32m----> 8\u001b[1;33m \u001b[0mprint\u001b[0m\u001b[1;33m(\u001b[0m\u001b[0mtype\u001b[0m\u001b[1;33m(\u001b[0m\u001b[0mstart\u001b[0m\u001b[1;33m)\u001b[0m\u001b[1;33m,\u001b[0m \u001b[0mtype\u001b[0m\u001b[1;33m(\u001b[0m\u001b[0mdatetime\u001b[0m\u001b[1;33m.\u001b[0m\u001b[0mfromtimestamp\u001b[0m\u001b[1;33m(\u001b[0m\u001b[0mstart_date\u001b[0m\u001b[1;33m)\u001b[0m\u001b[1;33m)\u001b[0m\u001b[1;33m)\u001b[0m\u001b[1;33m\u001b[0m\u001b[1;33m\u001b[0m\u001b[0m\n\u001b[0m\u001b[0;32m      9\u001b[0m \u001b[0mdataframe_list\u001b[0m \u001b[1;33m=\u001b[0m \u001b[1;33m[\u001b[0m\u001b[1;33m]\u001b[0m\u001b[1;33m\u001b[0m\u001b[1;33m\u001b[0m\u001b[0m\n\u001b[0;32m     10\u001b[0m \u001b[1;33m\u001b[0m\u001b[0m\n",
      "\u001b[1;31mTypeError\u001b[0m: an integer is required (got type datetime.date)"
     ]
    }
   ],
   "source": [
    "from meteostat import Point, Daily,  Stations\n",
    "\n",
    "# Set time period\n",
    "start = datetime(2017, 4, 1)\n",
    "end = datetime(2022, 4, 30)\n",
    "# start = datetime.fromtimestamp(start_date)\n",
    "# end = datetime.fromtimestamp(end_date)\n",
    "print(type(start), type(datetime.fromtimestamp(start_date)))\n",
    "dataframe_list = []\n",
    "\n",
    "for i,coordinate in coordinates.items():\n",
    "    stations = Stations()\n",
    "    stations = stations.nearby(coordinate[0],coordinate[1])\n",
    "    stations = stations.inventory('daily', True)\n",
    "    station = stations.fetch(1)\n",
    "    data = Daily(station, start, end)\n",
    "    data = data.fetch()\n",
    "    data = data.drop(columns = ['tmin', 'tmax', 'wdir', 'wpgt', 'pres', 'tsun'])\n",
    "    \n",
    "    def rename_map(x):\n",
    "        return i + '_' + x\n",
    "    \n",
    "    data = data.rename(columns=rename_map)\n",
    "    dataframe_list.append(data)\n",
    "#     print(data.columns)\n",
    "    \n",
    "df = pd.concat(dataframe_list)\n",
    "df.index"
   ]
  },
  {
   "cell_type": "code",
   "execution_count": null,
   "id": "0ef72d77",
   "metadata": {},
   "outputs": [],
   "source": []
  },
  {
   "cell_type": "code",
   "execution_count": null,
   "id": "a70b7752",
   "metadata": {},
   "outputs": [],
   "source": []
  }
 ],
 "metadata": {
  "kernelspec": {
   "display_name": "Python 3 (ipykernel)",
   "language": "python",
   "name": "python3"
  },
  "language_info": {
   "codemirror_mode": {
    "name": "ipython",
    "version": 3
   },
   "file_extension": ".py",
   "mimetype": "text/x-python",
   "name": "python",
   "nbconvert_exporter": "python",
   "pygments_lexer": "ipython3",
   "version": "3.7.15"
  }
 },
 "nbformat": 4,
 "nbformat_minor": 5
}
